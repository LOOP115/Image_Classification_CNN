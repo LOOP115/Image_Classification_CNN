{
 "cells": [
  {
   "cell_type": "markdown",
   "id": "d847e781",
   "metadata": {
    "pycharm": {
     "name": "#%% md\n"
    }
   },
   "source": [
    "## The University of Melbourne, School of Computing and Information Systems\n",
    "# COMP90086 Computer Vision, 2022 Semester 2\n",
    "\n",
    "## Assignment 2"
   ]
  },
  {
   "cell_type": "markdown",
   "id": "6999010a",
   "metadata": {
    "pycharm": {
     "name": "#%% md\n"
    }
   },
   "source": [
    "**Student Name:**    `Jiahao Chen`\n",
    "\n",
    "**Student ID:**     `1118749`"
   ]
  },
  {
   "cell_type": "markdown",
   "id": "cf2a33ab",
   "metadata": {
    "pycharm": {
     "name": "#%% md\n"
    }
   },
   "source": [
    "## This iPython notebook is a template which you should use for your Assignment 2 submission. This file should be submitted at the **Assignment 2: Code** link on the LMS.\n",
    "\n",
    "In addition to this file, you should submit a written report explaining your results at the **Assignment 2: Report** link on the LMS. Please see the assignment specification for details on what must be included in the report for each question.\n",
    "\n",
    "*Adding proper comments to your code is MANDATORY.*"
   ]
  },
  {
   "cell_type": "markdown",
   "id": "874cfa37",
   "metadata": {
    "pycharm": {
     "name": "#%% md\n"
    }
   },
   "source": [
    "### 1. CNN implementation\n",
    "\n",
    "In this problem, you will implement a CNN to classify the yoga32 dataset. The following code section will load the dataset from a folder that you specify. You may change the batch sizes and validation percentage if you wish, but otherwise it is recommended that you do not modify this section."
   ]
  },
  {
   "cell_type": "code",
   "execution_count": 1,
   "id": "e05b6886",
   "metadata": {
    "pycharm": {
     "name": "#%%\n"
    },
    "scrolled": true
   },
   "outputs": [
    {
     "name": "stdout",
     "output_type": "stream",
     "text": [
      "Found 520 files belonging to 10 classes.\n",
      "Using 416 files for training.\n",
      "Found 520 files belonging to 10 classes.\n",
      "Using 104 files for validation.\n",
      "['bridge', 'childs', 'downwarddog', 'mountain', 'plank', 'seatedforwardbend', 'tree', 'trianglepose', 'warrior1', 'warrior2']\n"
     ]
    }
   ],
   "source": [
    "import tensorflow as tf\n",
    "from tensorflow import keras\n",
    "from tensorflow.keras import layers\n",
    "from tensorflow.keras.models import Model\n",
    "from tensorflow.keras.preprocessing import image\n",
    "import numpy as np\n",
    "import matplotlib.pyplot as plt\n",
    "import matplotlib.cm as cm\n",
    "import math\n",
    "import secrets\n",
    "\n",
    "data_dir = \"yoga32\" # SPECIFY YOUR PATH TO THE YOGA32 DATASET\n",
    "train_batch_size = 32\n",
    "rand_seed = secrets.randbelow(1_000_000_000) # random seed for train/val split\n",
    "# note that same seed must be used for both to ensure no overlap in train/val data\n",
    "\n",
    "# Get training images from 'train' directory\n",
    "train_data = tf.keras.utils.image_dataset_from_directory(\n",
    "    data_dir+'/train',\n",
    "    validation_split=0.2,\n",
    "    subset=\"training\",\n",
    "    seed=rand_seed,\n",
    "    image_size=(32, 32),\n",
    "    batch_size=train_batch_size)\n",
    "\n",
    "# Get validation images from 'train' directory\n",
    "val_data = tf.keras.utils.image_dataset_from_directory(\n",
    "    data_dir+'/train',\n",
    "    validation_split=0.2,\n",
    "    subset=\"validation\",\n",
    "    seed=rand_seed,\n",
    "    image_size=(32, 32),\n",
    "    batch_size=train_batch_size)\n",
    "\n",
    "# Output list of class names\n",
    "class_names = train_data.class_names\n",
    "print(class_names)\n",
    "\n",
    "# Note: To train a model with the dataset loaded above, pass the train and val\n",
    "# datasets to the fit() function, like so:\n",
    "# myCNNmodel.fit(train_data, validation_data=val_data, epochs=number_of_epochs)"
   ]
  },
  {
   "cell_type": "markdown",
   "id": "3c877284",
   "metadata": {
    "pycharm": {
     "name": "#%% md\n"
    }
   },
   "source": [
    "1.1. Implement the CNN shown in the assignment specification and train it on the provided dataset. Plot the training accuracy and validation accuracy over epochs."
   ]
  },
  {
   "cell_type": "code",
   "execution_count": 4,
   "id": "f548ace5",
   "metadata": {},
   "outputs": [],
   "source": [
    "# Plot training and validation accuracy of a model\n",
    "def plot_model_history(history):\n",
    "    plt.plot(history.history['accuracy'], label='Train')\n",
    "    plt.plot(history.history['val_accuracy'], label='Validation')\n",
    "    plt.ylabel('Accuracy')\n",
    "    plt.xlabel('Epoch')\n",
    "    plt.title('Training and validating accuracy')\n",
    "    plt.legend()\n",
    "    plt.show()"
   ]
  },
  {
   "cell_type": "code",
   "execution_count": 5,
   "id": "3a9bc16d",
   "metadata": {
    "pycharm": {
     "name": "#%%\n"
    }
   },
   "outputs": [
    {
     "name": "stdout",
     "output_type": "stream",
     "text": [
      "Epoch 1/10\n",
      "13/13 [==============================] - 0s 11ms/step - loss: 14.9536 - accuracy: 0.1322 - val_loss: 5.3714 - val_accuracy: 0.0962\n",
      "Epoch 2/10\n",
      "13/13 [==============================] - 0s 6ms/step - loss: 3.5979 - accuracy: 0.1490 - val_loss: 2.5680 - val_accuracy: 0.1250\n",
      "Epoch 3/10\n",
      "13/13 [==============================] - 0s 6ms/step - loss: 2.3589 - accuracy: 0.1490 - val_loss: 2.3222 - val_accuracy: 0.1154\n",
      "Epoch 4/10\n",
      "13/13 [==============================] - 0s 5ms/step - loss: 2.2329 - accuracy: 0.1707 - val_loss: 2.3078 - val_accuracy: 0.1442\n",
      "Epoch 5/10\n",
      "13/13 [==============================] - 0s 5ms/step - loss: 2.1329 - accuracy: 0.2380 - val_loss: 2.3422 - val_accuracy: 0.1538\n",
      "Epoch 6/10\n",
      "13/13 [==============================] - 0s 5ms/step - loss: 2.0067 - accuracy: 0.3005 - val_loss: 2.2777 - val_accuracy: 0.1731\n",
      "Epoch 7/10\n",
      "13/13 [==============================] - 0s 5ms/step - loss: 1.8525 - accuracy: 0.3606 - val_loss: 2.2487 - val_accuracy: 0.2212\n",
      "Epoch 8/10\n",
      "13/13 [==============================] - 0s 6ms/step - loss: 1.6937 - accuracy: 0.4062 - val_loss: 2.1678 - val_accuracy: 0.2596\n",
      "Epoch 9/10\n",
      "13/13 [==============================] - 0s 6ms/step - loss: 1.5183 - accuracy: 0.4567 - val_loss: 2.0790 - val_accuracy: 0.2885\n",
      "Epoch 10/10\n",
      "13/13 [==============================] - 0s 6ms/step - loss: 1.3396 - accuracy: 0.5433 - val_loss: 2.0128 - val_accuracy: 0.2981\n"
     ]
    }
   ],
   "source": [
    "# 1. CNN Implementation\n",
    "# 1.1 Basic architecture\n",
    "cnn_model1 = keras.Sequential(\n",
    "    [\n",
    "        layers.Input((32, 32, 3)),\n",
    "        \n",
    "        layers.Conv2D(16, (3, 3), activation='relu'),\n",
    "        layers.Conv2D(16, (3, 3), activation='relu'),\n",
    "        layers.MaxPooling2D((2, 2), strides=(2, 2)),\n",
    "\n",
    "        layers.Conv2D(24, (3, 3), activation='relu'),\n",
    "        layers.Conv2D(24, (3, 3), activation='relu'),\n",
    "        layers.MaxPooling2D((2, 2), strides=(2, 2)),\n",
    "\n",
    "        layers.Flatten(),\n",
    "        layers.Dense(10, activation='softmax')\n",
    "    ],\n",
    ")\n",
    "\n",
    "cnn_model1.compile(optimizer='adam', loss=tf.keras.losses.SparseCategoricalCrossentropy(), metrics=['accuracy'])\n",
    "\n",
    "history1 = cnn_model1.fit(train_data, validation_data=val_data, epochs=10)\n"
   ]
  },
  {
   "cell_type": "code",
   "execution_count": 6,
   "id": "a8fd11be",
   "metadata": {},
   "outputs": [
    {
     "data": {
      "image/png": "[encoded data removed]",
      "text/plain": [
       "<Figure size 640x480 with 1 Axes>"
      ]
     },
     "metadata": {},
     "output_type": "display_data"
    }
   ],
   "source": [
    "plot_model_history(history1)"
   ]
  },
  {
   "cell_type": "markdown",
   "id": "d3d51a08",
   "metadata": {
    "pycharm": {
     "name": "#%% md\n"
    }
   },
   "source": [
    "1.2. Modify the CNN (see assignment spec for details) and train it on the provided dataset.  Plot the training accuracy and validation accuracy over epochs."
   ]
  },
  {
   "cell_type": "code",
   "execution_count": null,
   "id": "bd8ff8b3",
   "metadata": {
    "pycharm": {
     "name": "#%%\n"
    }
   },
   "outputs": [],
   "source": []
  },
  {
   "cell_type": "markdown",
   "id": "d0fbdb30",
   "metadata": {
    "pycharm": {
     "name": "#%% md\n"
    }
   },
   "source": [
    "### 2. Error anaylsis\n",
    "Evaluate your CNN model from question 1.2 on the test dataset. See assignment spec for details."
   ]
  },
  {
   "cell_type": "code",
   "execution_count": null,
   "id": "5c15cb46",
   "metadata": {
    "pycharm": {
     "name": "#%%\n"
    }
   },
   "outputs": [],
   "source": []
  },
  {
   "cell_type": "markdown",
   "id": "5bbd74cc",
   "metadata": {
    "pycharm": {
     "name": "#%% md\n"
    }
   },
   "source": [
    "### 3. Visualisation\n",
    "Visualise the feature space that your model uses to classify images. See assignment spec for details."
   ]
  },
  {
   "cell_type": "code",
   "execution_count": null,
   "id": "dad2bfe2",
   "metadata": {
    "pycharm": {
     "name": "#%%\n"
    }
   },
   "outputs": [],
   "source": []
  }
 ],
 "metadata": {
  "kernelspec": {
   "display_name": "Python 3.7.13 ('tf_gpu')",
   "language": "python",
   "name": "python3"
  },
  "language_info": {
   "codemirror_mode": {
    "name": "ipython",
    "version": 3
   },
   "file_extension": ".py",
   "mimetype": "text/x-python",
   "name": "python",
   "nbconvert_exporter": "python",
   "pygments_lexer": "ipython3",
   "version": "3.7.13"
  },
  "vscode": {
   "interpreter": {
    "hash": "dcb43515898f68681db7fb073f02f0eb00ceebe7b72ab6a590982b8262aa38a5"
   }
  }
 },
 "nbformat": 4,
 "nbformat_minor": 5
}
